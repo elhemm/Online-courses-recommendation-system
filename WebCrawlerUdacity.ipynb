{
 "cells": [
  {
   "cell_type": "code",
   "execution_count": 29,
   "metadata": {},
   "outputs": [
    {
     "name": "stdout",
     "output_type": "stream",
     "text": [
      "https://eu.udacity.com/courses/all\n",
      "https://eu.udacity.com/courses/school-of-ai\n",
      "https://eu.udacity.com/courses/artificial-intelligence\n",
      "https://eu.udacity.com/courses/deep-learning\n",
      "https://eu.udacity.com/courses/machine-learning\n",
      "https://eu.udacity.com/courses/computer-vision\n",
      "https://eu.udacity.com/courses/ai-python\n",
      "https://eu.udacity.com/courses/nlp\n",
      "https://eu.udacity.com/courses/artificial-intelligence-for-trading\n",
      "https://eu.udacity.com/courses/school-of-data-science\n",
      "https://eu.udacity.com/courses/data-scientist\n",
      "https://eu.udacity.com/courses/data-analyst\n",
      "https://eu.udacity.com/courses/business-analytics\n",
      "https://eu.udacity.com/courses/predictive-analytics-for-business\n",
      "https://eu.udacity.com/courses/programming-for-data-science\n",
      "https://eu.udacity.com/courses/school-of-programming\n",
      "https://eu.udacity.com/courses/android-developer\n",
      "https://eu.udacity.com/courses/android-basics\n",
      "https://eu.udacity.com/courses/intro-to-programming\n",
      "https://eu.udacity.com/courses/front-end-developer\n",
      "https://eu.udacity.com/courses/full-stack-developer\n",
      "https://eu.udacity.com/courses/mobile-web-specialist\n",
      "https://eu.udacity.com/courses/react\n",
      "https://eu.udacity.com/courses/vr\n",
      "https://eu.udacity.com/courses/unreal\n",
      "https://eu.udacity.com/courses/ios\n",
      "https://eu.udacity.com/courses/ai-python\n",
      "https://eu.udacity.com/courses/school-of-autonomous-systems\n",
      "https://eu.udacity.com/courses/robotics\n",
      "https://eu.udacity.com/courses/self-driving-car\n",
      "https://eu.udacity.com/courses/intro-self-driving-car\n",
      "https://eu.udacity.com/courses/flying-car\n",
      "https://eu.udacity.com/courses/school-of-business\n",
      "https://eu.udacity.com/courses/digital-marketing\n",
      "https://eu.udacity.com/courses/google-adwords\n",
      "https://eu.udacity.com/courses/google-analytics\n",
      "https://eu.udacity.com/courses/design-sprint-foundations\n",
      "https://eu.udacity.com/courses/business-analytics\n",
      "https://eu.udacity.com/courses/predictive-analytics-for-business\n",
      "https://eu.udacity.com/courses/career\n",
      "https://eu.udacity.com/courses/applying-to-jobs\n",
      "https://eu.udacity.com/courses/interviewing\n"
     ]
    }
   ],
   "source": [
    "from lxml import html \n",
    "from bs4 import BeautifulSoup\n",
    "import requests\n",
    "import time\n",
    "\n",
    "\n",
    "UserProfile = set([\"Python programming Deep learning Artificial neural network\" ])\n",
    "\n",
    "Titles = set()\n",
    "Courses = {}\n",
    "\n",
    "\n",
    "def soupCrawler(max_pages):\n",
    "    page = 1;\n",
    "    href = \"/courses/all\"\n",
    "\n",
    "    while page<= max_pages:\n",
    "                \n",
    "        url= \"https://eu.udacity.com\" + href            \n",
    "        \n",
    "        source_code = requests.get(url)  \n",
    "        plaint_text = source_code.text\n",
    "        soup = BeautifulSoup(plaint_text)\n",
    "        for link in soup.findAll('a' , {'class' : 'track-link' }):\n",
    "            href = link.get('href')         \n",
    "            print (\"https://eu.udacity.com\" + href)\n",
    "            title= link.string\n",
    "            Titles.add (title)\n",
    "            Courses.update([(title , \"https://eu.udacity.com\" + href)])\n",
    "\n",
    "        page+=1\n",
    "        \n",
    "\n",
    "class AppCrawler:\n",
    "    \n",
    "    def __init__(self, starting_url, depth):\n",
    "        self.starting_url= starting_url\n",
    "        self.depth= depth\n",
    "        self.current_depth=0\n",
    "        self.depth_links=[]\n",
    "        self.apps= []\n",
    "        \n",
    "        \n",
    "             \n",
    "        \n",
    "    def crawl(self):\n",
    "        app= self.get_app_from_link(self.starting_url)\n",
    "        self.apps.append(app)\n",
    "        self.depth_links.append(app.links)\n",
    "        \n",
    "        while self.current_depth < self.depth:\n",
    "            current_links =[]\n",
    "\n",
    "        \n",
    "\n",
    "    def get_app_from_link(self, link):\n",
    "        start_page= requests.get(link)\n",
    "        tree= html.fromstring(start_page.text)\n",
    "        courses= tree.xpath('//div[@class=\"contain contain--none\"]//*/h3[@class=\"h4\"]/text()')\n",
    "        links=  tree.xpath('//div[@class=\"contain contain--none\"]//*/a/@href') \n",
    "        \n",
    "        app= App(courses,links)\n",
    "        return app \n",
    "        \n",
    "\n",
    "        \n",
    "        \n",
    "class App:\n",
    "    def __init__(self, courses,links):\n",
    "        self.courses=courses\n",
    "        self.links= links\n",
    "    \n",
    "    def __str__(self):\n",
    "        print(self.courses)\n",
    "        for l in self.links:\n",
    "            print(\"https://eu.udacity.com\" +l)\n",
    "        \n",
    "        return (\"courses are stored in courses and links are stored in links \" )\n",
    "        \n",
    " \n",
    "    \n",
    "soupCrawler(1)\n",
    "\n",
    "\n",
    "\n",
    "    "
   ]
  },
  {
   "cell_type": "code",
   "execution_count": 17,
   "metadata": {},
   "outputs": [
    {
     "data": {
      "text/plain": [
       "dict_keys(['All', 'Artificial Intelligence', 'Deep Learning', 'Machine Learning', 'Computer Vision', 'AI Programming with Python', 'Natural Language Processing', 'Artificial Intelligence for Trading', 'Data Science', 'Data Scientist', 'Data Analyst', 'Business Analytics', 'Predictive Analytics for Business', 'Programming for Data Science', 'Programming and Development', 'Android Developer', 'Android Basics', 'Intro To Programming', 'Front End Developer', 'Full Stack Developer', 'Mobile Web Specialist', 'React', 'Virtual Reality', 'Unreal', 'iOS', 'Autonomous Systems', 'Robotics', 'Self Driving Car', 'Intro To Self Driving Car', 'Flying Car', 'Business', 'Digital Marketing', 'Google Adwords', 'Google Analytics', 'Design Sprint Foundations', 'Career', 'Applying to Jobs', 'Interviewing'])"
      ]
     },
     "execution_count": 17,
     "metadata": {},
     "output_type": "execute_result"
    }
   ],
   "source": [
    "Courses.keys()"
   ]
  },
  {
   "cell_type": "markdown",
   "metadata": {
    "scrolled": true
   },
   "source": [
    "Information retrieval: TF -IDF(Term Frequency-Inverse Document Frequency) converting unstructured text into usefull features "
   ]
  },
  {
   "cell_type": "code",
   "execution_count": 18,
   "metadata": {},
   "outputs": [],
   "source": [
    "from sklearn.feature_extraction.text import TfidfVectorizer\n",
    "\n",
    "vectorizer = TfidfVectorizer()\n",
    "inputSet= list(UserProfile) + list(Courses.keys())\n"
   ]
  },
  {
   "cell_type": "code",
   "execution_count": 19,
   "metadata": {},
   "outputs": [],
   "source": [
    "tfidf_matrix = vectorizer.fit_transform(inputSet)"
   ]
  },
  {
   "cell_type": "code",
   "execution_count": 20,
   "metadata": {},
   "outputs": [
    {
     "data": {
      "text/plain": [
       "<39x63 sparse matrix of type '<class 'numpy.float64'>'\n",
       "\twith 95 stored elements in Compressed Sparse Row format>"
      ]
     },
     "execution_count": 20,
     "metadata": {},
     "output_type": "execute_result"
    }
   ],
   "source": [
    "tfidf_matrix"
   ]
  },
  {
   "cell_type": "code",
   "execution_count": 21,
   "metadata": {},
   "outputs": [
    {
     "name": "stdout",
     "output_type": "stream",
     "text": [
      "  (0, 45)\t0.3828995260273615\n",
      "  (0, 44)\t0.30897585553899887\n",
      "  (0, 16)\t0.3828995260273615\n",
      "  (0, 35)\t0.3522184306903582\n",
      "  (0, 8)\t0.3522184306903582\n",
      "  (0, 41)\t0.4261421011787208\n",
      "  (0, 40)\t0.4261421011787208\n",
      "  (1, 2)\t1.0\n",
      "  (2, 8)\t0.6770053810526061\n",
      "  (2, 29)\t0.7359780662667982\n",
      "  (3, 16)\t0.7359780662667982\n",
      "  (3, 35)\t0.6770053810526061\n",
      "  (4, 35)\t0.6370835436556798\n",
      "  (4, 36)\t0.770794757638583\n",
      "  (5, 14)\t0.7071067811865476\n",
      "  (5, 60)\t0.7071067811865476\n",
      "  (6, 45)\t0.49216352764115595\n",
      "  (6, 44)\t0.3971450385319918\n",
      "  (6, 1)\t0.5477457806451985\n",
      "  (6, 62)\t0.5477457806451985\n",
      "  (7, 39)\t0.5773502691896257\n",
      "  (7, 34)\t0.5773502691896257\n",
      "  (7, 43)\t0.5773502691896257\n",
      "  (8, 8)\t0.46395774606099166\n",
      "  (8, 29)\t0.5043722462657027\n",
      "  :\t:\n",
      "  (28, 51)\t0.5927479304391474\n",
      "  (28, 21)\t0.5927479304391474\n",
      "  (28, 12)\t0.5452520352279443\n",
      "  (29, 31)\t0.46164254567449803\n",
      "  (29, 56)\t0.4246519045462454\n",
      "  (29, 51)\t0.46164254567449803\n",
      "  (29, 21)\t0.46164254567449803\n",
      "  (29, 12)\t0.4246519045462454\n",
      "  (30, 12)\t0.6370835436556798\n",
      "  (30, 23)\t0.770794757638583\n",
      "  (31, 11)\t1.0\n",
      "  (32, 20)\t0.7071067811865476\n",
      "  (32, 37)\t0.7071067811865476\n",
      "  (33, 28)\t0.6683585295723438\n",
      "  (33, 0)\t0.7438392809928059\n",
      "  (34, 4)\t0.6770053810526061\n",
      "  (34, 28)\t0.7359780662667982\n",
      "  (35, 17)\t0.5773502691896257\n",
      "  (35, 53)\t0.5773502691896257\n",
      "  (35, 25)\t0.5773502691896257\n",
      "  (36, 13)\t1.0\n",
      "  (37, 56)\t0.5045860746583992\n",
      "  (37, 7)\t0.6104886949243321\n",
      "  (37, 33)\t0.6104886949243321\n",
      "  (38, 30)\t1.0\n"
     ]
    }
   ],
   "source": [
    "print(tfidf_matrix)"
   ]
  },
  {
   "cell_type": "code",
   "execution_count": 22,
   "metadata": {},
   "outputs": [
    {
     "data": {
      "text/plain": [
       "TruncatedSVD(algorithm='randomized', n_components=4, n_iter=100,\n",
       "       random_state=None, tol=0.0)"
      ]
     },
     "execution_count": 22,
     "metadata": {},
     "output_type": "execute_result"
    }
   ],
   "source": [
    "from sklearn.decomposition import TruncatedSVD\n",
    "\n",
    "lsa = TruncatedSVD(n_components=4, n_iter=100)\n",
    "lsa.fit(tfidf_matrix)"
   ]
  },
  {
   "cell_type": "raw",
   "metadata": {},
   "source": [
    "Dementionality reduction using Sklearn truncateSVD"
   ]
  },
  {
   "cell_type": "code",
   "execution_count": 23,
   "metadata": {},
   "outputs": [
    {
     "name": "stdout",
     "output_type": "stream",
     "text": [
      "concept 0: \n",
      "business\n",
      "analytics\n",
      "data\n",
      "for\n",
      "science\n",
      "programming\n",
      "predictive\n",
      "google\n",
      "artificial\n",
      "intelligence\n",
      " \n",
      "concept 1: \n",
      "business\n",
      "analytics\n",
      "google\n",
      "predictive\n",
      "adwords\n",
      "autonomous\n",
      "systems\n",
      "digital\n",
      "marketing\n",
      "language\n",
      " \n",
      "concept 2: \n",
      "car\n",
      "driving\n",
      "self\n",
      "to\n",
      "intro\n",
      "flying\n",
      "programming\n",
      "applying\n",
      "jobs\n",
      "business\n",
      " \n",
      "concept 3: \n",
      "learning\n",
      "artificial\n",
      "deep\n",
      "intelligence\n",
      "python\n",
      "programming\n",
      "machine\n",
      "network\n",
      "neural\n",
      "trading\n",
      " \n"
     ]
    }
   ],
   "source": [
    "terms = vectorizer.get_feature_names()\n",
    "for i, comp in enumerate (lsa.components_):\n",
    "    termsInComp = zip(terms, comp)\n",
    "    sortedTerms = sorted(termsInComp, key=lambda x: x[1], reverse= True)[:10]\n",
    "    print(\"concept %d: \" %i)\n",
    "    for term in sortedTerms:\n",
    "        print(term[0])\n",
    "    print (\" \")\n"
   ]
  },
  {
   "cell_type": "markdown",
   "metadata": {},
   "source": [
    "\n",
    "match = []\n",
    "for i in UserProfile:\n",
    "    for j in Titles:\n",
    "        sequence = difflib.SequenceMatcher(None,i.lower(), j.lower())\n",
    "        difference = sequence.ratio()*100\n",
    "        difference = round(difference,1)\n",
    "        match.append(difference)\n",
    "        print (\"match between: \" + i+ \" and \"+ j+ \"= %\" + str(difference)) \n",
    "match.sort()"
   ]
  },
  {
   "cell_type": "code",
   "execution_count": null,
   "metadata": {},
   "outputs": [],
   "source": [
    "\n"
   ]
  },
  {
   "cell_type": "code",
   "execution_count": null,
   "metadata": {},
   "outputs": [],
   "source": [
    "\n"
   ]
  },
  {
   "cell_type": "code",
   "execution_count": null,
   "metadata": {},
   "outputs": [],
   "source": []
  },
  {
   "cell_type": "code",
   "execution_count": 31,
   "metadata": {},
   "outputs": [
    {
     "name": "stdout",
     "output_type": "stream",
     "text": [
      "similarity_matrix= \n",
      " [[1.         0.         0.23845377 0.52025943 0.22439257 0.\n",
      "  0.31115741 0.         0.16341447 0.         0.         0.\n",
      "  0.         0.         0.13866339 0.14096248 0.         0.\n",
      "  0.15777126 0.         0.         0.         0.         0.\n",
      "  0.         0.         0.         0.         0.         0.\n",
      "  0.         0.         0.         0.         0.         0.\n",
      "  0.         0.         0.        ]]\n"
     ]
    }
   ],
   "source": [
    "from sklearn.metrics.pairwise import cosine_similarity\n",
    "\n",
    "similarity_matrix = cosine_similarity(tfidf_matrix[0:1], tfidf_matrix)\n",
    "print(\"similarity_matrix= \\n\" ,similarity_matrix)"
   ]
  },
  {
   "cell_type": "code",
   "execution_count": 32,
   "metadata": {},
   "outputs": [
    {
     "data": {
      "text/plain": [
       "array([[19, 21, 22, 23, 24, 25, 26, 27, 20, 28, 30, 31, 32, 33, 34, 35,\n",
       "        36, 29, 37, 38, 17, 16, 13, 12, 11, 10,  9,  7,  1,  5, 14, 15,\n",
       "        18,  8,  4,  2,  6,  3,  0]])"
      ]
     },
     "execution_count": 32,
     "metadata": {},
     "output_type": "execute_result"
    }
   ],
   "source": [
    "import numpy\n",
    "\n",
    "sortedArray = similarity_matrix.argsort()\n",
    "sortedArray"
   ]
  },
  {
   "cell_type": "code",
   "execution_count": 33,
   "metadata": {},
   "outputs": [
    {
     "data": {
      "text/plain": [
       "[0,\n",
       " 3,\n",
       " 6,\n",
       " 2,\n",
       " 4,\n",
       " 8,\n",
       " 18,\n",
       " 15,\n",
       " 14,\n",
       " 5,\n",
       " 1,\n",
       " 7,\n",
       " 9,\n",
       " 10,\n",
       " 11,\n",
       " 12,\n",
       " 13,\n",
       " 16,\n",
       " 17,\n",
       " 38,\n",
       " 37,\n",
       " 29,\n",
       " 36,\n",
       " 35,\n",
       " 34,\n",
       " 33,\n",
       " 32,\n",
       " 31,\n",
       " 30,\n",
       " 28,\n",
       " 20,\n",
       " 27,\n",
       " 26,\n",
       " 25,\n",
       " 24,\n",
       " 23,\n",
       " 22,\n",
       " 21,\n",
       " 19]"
      ]
     },
     "execution_count": 33,
     "metadata": {},
     "output_type": "execute_result"
    }
   ],
   "source": [
    "l = sortedArray[0,:]\n",
    "r= list(reversed(l))\n",
    "\n",
    "S = similarity_matrix[0,:]\n",
    "\n",
    "r"
   ]
  },
  {
   "cell_type": "code",
   "execution_count": 34,
   "metadata": {
    "scrolled": true
   },
   "outputs": [
    {
     "name": "stdout",
     "output_type": "stream",
     "text": [
      "USER PROFILE: \n",
      "{'Python programming Deep learning Artificial neural network'}\n",
      "Deep Learning : https://eu.udacity.com/courses/deep-learning  ---- Similarity= 52.03%\n",
      "AI Programming with Python : https://eu.udacity.com/courses/ai-python  ---- Similarity= 31.12%\n",
      "Artificial Intelligence : https://eu.udacity.com/courses/artificial-intelligence  ---- Similarity= 23.85%\n",
      "Machine Learning : https://eu.udacity.com/courses/machine-learning  ---- Similarity= 22.44%\n",
      "Artificial Intelligence for Trading : https://eu.udacity.com/courses/artificial-intelligence-for-trading  ---- Similarity= 16.34%\n"
     ]
    }
   ],
   "source": [
    "\n",
    "match = []\n",
    "\n",
    "i=1\n",
    "print(\"USER PROFILE: \" )\n",
    "print(UserProfile)\n",
    "\n",
    "while i<= 5:\n",
    "    \n",
    "    match.append(r[i])\n",
    "    key= inputSet[r[i]]\n",
    "    print(key +\" : \" + Courses[key] + \"  ---- Similarity= \" +  str(\"{:.2%}\".format(S[r[i]])) )\n",
    "    i+= 1\n"
   ]
  },
  {
   "cell_type": "code",
   "execution_count": null,
   "metadata": {},
   "outputs": [],
   "source": []
  },
  {
   "cell_type": "code",
   "execution_count": null,
   "metadata": {},
   "outputs": [],
   "source": []
  },
  {
   "cell_type": "code",
   "execution_count": null,
   "metadata": {},
   "outputs": [],
   "source": []
  }
 ],
 "metadata": {
  "kernelspec": {
   "display_name": "Python 3",
   "language": "python",
   "name": "python3"
  },
  "language_info": {
   "codemirror_mode": {
    "name": "ipython",
    "version": 3
   },
   "file_extension": ".py",
   "mimetype": "text/x-python",
   "name": "python",
   "nbconvert_exporter": "python",
   "pygments_lexer": "ipython3",
   "version": "3.7.0"
  }
 },
 "nbformat": 4,
 "nbformat_minor": 2
}
